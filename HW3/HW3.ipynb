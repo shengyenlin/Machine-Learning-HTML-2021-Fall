{
 "cells": [
  {
   "cell_type": "code",
   "execution_count": 37,
   "metadata": {},
   "outputs": [],
   "source": [
    "import numpy as np\n",
    "from sklearn.preprocessing import PolynomialFeatures"
   ]
  },
  {
   "cell_type": "code",
   "execution_count": 38,
   "metadata": {},
   "outputs": [],
   "source": [
    "datContentTrain = [i.strip().split() for i in open(\"./hw3_train.dat\").readlines()]\n",
    "for i in range(len(datContentTrain)):\n",
    "    for j in range(len(datContentTrain[i])):\n",
    "        datContentTrain[i][j] = float(datContentTrain[i][j])\n",
    "data_train = np.array(datContentTrain)\n",
    "\n",
    "datContentTest = [i.strip().split() for i in open(\"./hw3_test.dat\").readlines()]\n",
    "for i in range(len(datContentTest)):\n",
    "    for j in range(len(datContentTest[i])):\n",
    "        datContentTest[i][j] = float(datContentTest[i][j])\n",
    "data_test = np.array(datContentTest)"
   ]
  },
  {
   "cell_type": "code",
   "execution_count": 40,
   "metadata": {},
   "outputs": [],
   "source": [
    "def solve_linear_regression(data, label):\n",
    "    w = np.linalg.lstsq(data, label, rcond=None)[0].reshape(-1, 1)\n",
    "    y_hat = np.dot(data, w).reshape(-1)\n",
    "    return w, y_hat\n",
    "\n",
    "def find_in_and_out_error(X_train, X_test, y_train, y_test, Verbose = False):\n",
    "    w, y_train_pred = solve_linear_regression(X_train, y_train)\n",
    "    y_train_label = np.where(y_train_pred > 0, 1, -1).reshape(-1)\n",
    "    E_in_01 = sum(y_train.reshape(-1) == y_train_label) / len(y_train_label)\n",
    "    y_test_pred = np.dot(X_test, w).reshape(-1)\n",
    "    y_test_label = np.where(y_test_pred > 0, 1, -1).reshape(-1)\n",
    "    E_out_01 = sum(y_test.reshape(-1) == y_test_label) / len(y_test_label)\n",
    "    abs_error = round(np.abs(E_in_01 - E_out_01), 4)\n",
    "    if Verbose:\n",
    "        print(f\"The answer is {abs_error}\")\n",
    "    return abs_error"
   ]
  },
  {
   "cell_type": "markdown",
   "metadata": {},
   "source": [
    "# Problem 12"
   ]
  },
  {
   "cell_type": "code",
   "execution_count": 41,
   "metadata": {},
   "outputs": [],
   "source": [
    "one_array_train = np.ones(X_train.shape[0]).reshape(-1, 1)\n",
    "one_array_test = np.ones(X_test.shape[0]).reshape(-1, 1)\n",
    "X_train_transformed_Q2 = np.concatenate([one_array_train, X_train, X_train ** 2], axis = 1)\n",
    "X_test_transformed_Q2 = np.concatenate([one_array_test, X_test, X_test ** 2], axis = 1)"
   ]
  },
  {
   "cell_type": "code",
   "execution_count": 42,
   "metadata": {},
   "outputs": [],
   "source": [
    "w, y_train_pred = solve_linear_regression(X_train_transformed_Q2, y_train)"
   ]
  },
  {
   "cell_type": "code",
   "execution_count": 43,
   "metadata": {},
   "outputs": [],
   "source": [
    "y_train_label = np.where(y_train_pred > 0, 1, -1).reshape(-1)\n",
    "E_in_01 = sum(y_train.reshape(-1) == y_train_label) / len(y_train_label)\n",
    "y_test_pred = np.dot(X_test_transformed_Q2, w).reshape(-1)\n",
    "y_test_label = np.where(y_test_pred > 0, 1, -1).reshape(-1)\n",
    "E_out_01 = sum(y_test.reshape(-1) == y_test_label) / len(y_test_label)"
   ]
  },
  {
   "cell_type": "code",
   "execution_count": 44,
   "metadata": {},
   "outputs": [
    {
     "name": "stdout",
     "output_type": "stream",
     "text": [
      "The answer is 0.3263\n"
     ]
    }
   ],
   "source": [
    "print(f\"The answer is {round(np.abs(E_in_01 - E_out_01), 4)}\")"
   ]
  },
  {
   "cell_type": "markdown",
   "metadata": {},
   "source": [
    "# Problem 13"
   ]
  },
  {
   "cell_type": "code",
   "execution_count": 45,
   "metadata": {},
   "outputs": [],
   "source": [
    "one_array_train = np.ones(X_train.shape[0]).reshape(-1, 1)\n",
    "one_array_test = np.ones(X_test.shape[0]).reshape(-1, 1)\n",
    "X_train_transformed_Q8 = np.concatenate([\n",
    "    one_array_train, X_train, X_train ** 2, X_train ** 3,\n",
    "    X_train ** 4, X_train ** 5, X_train ** 6, X_train ** 7, X_train ** 8\n",
    "    ], axis = 1)\n",
    "X_test_transformed_Q8 = np.concatenate([\n",
    "    one_array_test, X_test, X_test ** 2, X_test ** 3,\n",
    "    X_test ** 4, X_test ** 5, X_test ** 6, X_test ** 7, X_test ** 8\n",
    "    ], axis = 1)"
   ]
  },
  {
   "cell_type": "code",
   "execution_count": 46,
   "metadata": {},
   "outputs": [],
   "source": [
    "w, y_train_pred = solve_linear_regression(X_train_transformed_Q8, y_train)"
   ]
  },
  {
   "cell_type": "code",
   "execution_count": 47,
   "metadata": {},
   "outputs": [],
   "source": [
    "y_train_label = np.where(y_train_pred > 0, 1, -1).reshape(-1)\n",
    "E_in_01 = sum(y_train.reshape(-1) == y_train_label) / len(y_train_label)\n",
    "y_test_pred = np.dot(X_test_transformed_Q8, w).reshape(-1)\n",
    "y_test_label = np.where(y_test_pred > 0, 1, -1).reshape(-1)\n",
    "E_out_01 = sum(y_test.reshape(-1) == y_test_label) / len(y_test_label)"
   ]
  },
  {
   "cell_type": "code",
   "execution_count": 48,
   "metadata": {},
   "outputs": [
    {
     "name": "stdout",
     "output_type": "stream",
     "text": [
      "The answer is 0.4577\n"
     ]
    }
   ],
   "source": [
    "print(f\"The answer is {round(np.abs(E_in_01 - E_out_01), 4)}\")"
   ]
  },
  {
   "cell_type": "markdown",
   "metadata": {},
   "source": [
    "# Problem 14"
   ]
  },
  {
   "cell_type": "code",
   "execution_count": 49,
   "metadata": {},
   "outputs": [],
   "source": [
    "poly = PolynomialFeatures(2)\n",
    "X_train_transformed_Q2_full = poly.fit_transform(X_train)\n",
    "X_test_transformed_Q2_full = poly.transform(X_test)"
   ]
  },
  {
   "cell_type": "code",
   "execution_count": 50,
   "metadata": {},
   "outputs": [],
   "source": [
    "w, y_train_pred = solve_linear_regression(X_train_transformed_Q2_full, y_train)\n",
    "y_train_label = np.where(y_train_pred > 0, 1, -1).reshape(-1)\n",
    "E_in_01 = sum(y_train.reshape(-1) == y_train_label) / len(y_train_label)\n",
    "y_test_pred = np.dot(X_test_transformed_Q2_full, w).reshape(-1)\n",
    "y_test_label = np.where(y_test_pred > 0, 1, -1).reshape(-1)\n",
    "E_out_01 = sum(y_test.reshape(-1) == y_test_label) / len(y_test_label)"
   ]
  },
  {
   "cell_type": "code",
   "execution_count": 51,
   "metadata": {},
   "outputs": [
    {
     "name": "stdout",
     "output_type": "stream",
     "text": [
      "The answer is 0.3387\n"
     ]
    }
   ],
   "source": [
    "print(f\"The answer is {round(np.abs(E_in_01 - E_out_01), 4)}\")"
   ]
  },
  {
   "cell_type": "markdown",
   "metadata": {},
   "source": [
    "# Problem 15"
   ]
  },
  {
   "cell_type": "code",
   "execution_count": 52,
   "metadata": {},
   "outputs": [
    {
     "name": "stdout",
     "output_type": "stream",
     "text": [
      "When i = 1 The answer is 0.1367\n",
      "When i = 2 The answer is 0.1343\n",
      "When i = 3 The answer is 0.1323\n",
      "When i = 4 The answer is 0.1443\n",
      "When i = 5 The answer is 0.2523\n",
      "When i = 6 The answer is 0.3223\n",
      "When i = 7 The answer is 0.2647\n",
      "When i = 8 The answer is 0.2653\n",
      "When i = 9 The answer is 0.2483\n",
      "When i = 10 The answer is 0.3227\n",
      "==================================================\n",
      "When i = 3, we have minimum error 0.1323\n"
     ]
    }
   ],
   "source": [
    "num = 10\n",
    "one_array_train = np.ones(X_train.shape[0]).reshape(-1, 1)\n",
    "X_train_ = np.concatenate([one_array_train, X_train], axis = 1)\n",
    "one_array_test = np.ones(X_test.shape[0]).reshape(-1, 1)\n",
    "X_test_ = np.concatenate([one_array_test, X_test], axis = 1)\n",
    "error_list = []\n",
    "for i in range(num):\n",
    "    X_test_reduced = X_test_[:, :i+2]\n",
    "    X_train_reduced = X_train_[:, :i+2]\n",
    "    print(f\"When i = {i + 1}\", end = \" \")\n",
    "    error = find_in_and_out_error(X_train_reduced, X_test_reduced, y_train, y_test, Verbose = True)\n",
    "    error_list.append(error)\n",
    "\n",
    "print(\"=\"*50)\n",
    "print(f\"When i = {np.argmin(error_list) + 1}, we have minimum error {min(error_list)}\")"
   ]
  },
  {
   "cell_type": "code",
   "execution_count": 53,
   "metadata": {},
   "outputs": [],
   "source": [
    "# When i = 1 The answer is 0.1367\n",
    "# When i = 2 The answer is 0.1343\n",
    "# When i = 3 The answer is 0.1323\n",
    "# When i = 4 The answer is 0.1443\n",
    "# When i = 5 The answer is 0.2523\n",
    "# When i = 6 The answer is 0.3223\n",
    "# When i = 7 The answer is 0.2647\n",
    "# When i = 8 The answer is 0.2653\n",
    "# When i = 9 The answer is 0.2483\n",
    "# When i = 10 The answer is 0.3227\n",
    "# ==================================================\n",
    "# When i = 3, we have minimum error 0.1323"
   ]
  },
  {
   "cell_type": "markdown",
   "metadata": {},
   "source": [
    "# Problem 16"
   ]
  },
  {
   "cell_type": "code",
   "execution_count": 54,
   "metadata": {},
   "outputs": [
    {
     "name": "stdout",
     "output_type": "stream",
     "text": [
      "Average absolute error is 0.2141\n"
     ]
    }
   ],
   "source": [
    "num_experiment = 200\n",
    "error_sum = 0\n",
    "one_array_train = np.ones(X_train.shape[0]).reshape(-1, 1)\n",
    "X_train_ = np.concatenate([one_array_train, X_train], axis = 1)\n",
    "one_array_test = np.ones(X_test.shape[0]).reshape(-1, 1)\n",
    "X_test_ = np.concatenate([one_array_test, X_test], axis = 1)\n",
    "\n",
    "for i in range(num_experiment):\n",
    "    np.random.seed(i)\n",
    "    rand_trans = np.append(np.array([0]), np.random.choice(np.arange(1, 11), size = 5, replace = False))\n",
    "    X_train_reduced = X_train_[:, rand_trans]\n",
    "    X_test_reduced = X_test_[:, rand_trans]\n",
    "    error = find_in_and_out_error(X_train_reduced, X_test_reduced, y_train, y_test, Verbose = False)\n",
    "    error_sum += error\n",
    "\n",
    "print(f\"Average absolute error is {round(error_sum/num_experiment, 4)}\")"
   ]
  }
 ],
 "metadata": {
  "interpreter": {
   "hash": "853a6c1de715781c4e36e93313002732d37040606184d41a7b9ff831089b66e5"
  },
  "kernelspec": {
   "display_name": "Python 3.7.10 64-bit ('EEML': conda)",
   "language": "python",
   "name": "python3"
  },
  "language_info": {
   "codemirror_mode": {
    "name": "ipython",
    "version": 3
   },
   "file_extension": ".py",
   "mimetype": "text/x-python",
   "name": "python",
   "nbconvert_exporter": "python",
   "pygments_lexer": "ipython3",
   "version": "3.7.10"
  },
  "orig_nbformat": 4
 },
 "nbformat": 4,
 "nbformat_minor": 2
}
