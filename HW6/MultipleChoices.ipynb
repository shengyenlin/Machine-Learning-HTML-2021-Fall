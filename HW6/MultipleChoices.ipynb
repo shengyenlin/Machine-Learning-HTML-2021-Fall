{
 "cells": [
  {
   "cell_type": "code",
   "execution_count": 1,
   "metadata": {},
   "outputs": [],
   "source": [
    "import numpy as np\n",
    "import math"
   ]
  },
  {
   "cell_type": "code",
   "execution_count": 2,
   "metadata": {},
   "outputs": [],
   "source": [
    "N = 1126\n",
    "def numerator(n, N):\n",
    "    return math.factorial(N) / math.factorial(N-n)\n",
    "\n",
    "def denominator(n, N):\n",
    "    return N ** n\n",
    "\n",
    "def compute_ans(n, N):\n",
    "    num = numerator(n, N)\n",
    "    den = denominator(n, N)\n",
    "    return num / den"
   ]
  },
  {
   "cell_type": "code",
   "execution_count": 3,
   "metadata": {},
   "outputs": [
    {
     "name": "stdout",
     "output_type": "stream",
     "text": [
      "When N' = 25, probability = 0.23538550315526952\n",
      "When N' = 30, probability = 0.3227683607339432\n",
      "When N' = 35, probability = 0.4136862454558523\n",
      "When N' = 40, probability = 0.5038926083901623\n"
     ]
    }
   ],
   "source": [
    "N = 1126\n",
    "choices = [25, 30, 35, 40]\n",
    "for choice in choices:\n",
    "    ans = 1 - compute_ans(choice, N)\n",
    "    print(f\"When N' = {choice}, probability = {ans}\")"
   ]
  }
 ],
 "metadata": {
  "interpreter": {
   "hash": "50bc8ce3d1f752641134e147d4e62e8ba66bb5292f815a5a3dd7adbd21f01ef0"
  },
  "kernelspec": {
   "display_name": "Python 3.6.8 64-bit ('test': conda)",
   "language": "python",
   "name": "python3"
  },
  "language_info": {
   "codemirror_mode": {
    "name": "ipython",
    "version": 3
   },
   "file_extension": ".py",
   "mimetype": "text/x-python",
   "name": "python",
   "nbconvert_exporter": "python",
   "pygments_lexer": "ipython3",
   "version": "3.6.8"
  },
  "orig_nbformat": 4
 },
 "nbformat": 4,
 "nbformat_minor": 2
}
