{
 "cells": [
  {
   "cell_type": "code",
   "execution_count": 2,
   "metadata": {},
   "outputs": [],
   "source": [
    "import csv\n",
    "import numpy as np"
   ]
  },
  {
   "cell_type": "code",
   "execution_count": 3,
   "metadata": {},
   "outputs": [],
   "source": [
    "datContent = [i.strip().split() for i in open(\"./hw1_train.dat\").readlines()]\n",
    "for i in range(len(datContent)):\n",
    "    for j in range(len(datContent[i])):\n",
    "        datContent[i][j] = float(datContent[i][j])"
   ]
  },
  {
   "cell_type": "code",
   "execution_count": 4,
   "metadata": {},
   "outputs": [],
   "source": [
    "X = [el[:10] for el in datContent]\n",
    "y = [el[10] for el in datContent]\n",
    "num_observation = len(X)\n",
    "num_feature = len(X[0])"
   ]
  },
  {
   "cell_type": "code",
   "execution_count": 5,
   "metadata": {},
   "outputs": [],
   "source": [
    "x_0 = np.ones(num_observation).reshape(-1, 1)\n",
    "X_train = np.concatenate((x_0, np.array(X)), axis = 1)\n",
    "y_train = np.array(y)"
   ]
  },
  {
   "cell_type": "code",
   "execution_count": 8,
   "metadata": {},
   "outputs": [],
   "source": [
    "init_w = np.zeros(X_train.shape[1])\n",
    "max_exp_times = 1000"
   ]
  },
  {
   "cell_type": "code",
   "execution_count": 9,
   "metadata": {},
   "outputs": [],
   "source": [
    "def PLA(X_train, y_train, w, random_seed):\n",
    "    #parameter initalization\n",
    "    np.random.seed(random_seed)\n",
    "    patience = 5 * X_train.shape[0]\n",
    "    cnt_no_update = 0\n",
    "\n",
    "    #start running algorithm\n",
    "    while cnt_no_update < patience:\n",
    "        rand_idx = np.random.randint(X_train.shape[0])\n",
    "        pick_data = X_train[rand_idx]\n",
    "        y_hat = sign(np.dot(w.T, pick_data))\n",
    "        y_true = y_train[rand_idx]\n",
    "        #update\n",
    "        if (y_hat != y_true):\n",
    "            w = w + y_true * pick_data\n",
    "            cnt_no_update = 0\n",
    "        else:\n",
    "            cnt_no_update += 1\n",
    "        #print(cnt_no_update, end = \",\")\n",
    "    return w\n",
    "\n",
    "def sign(value):\n",
    "    if value > 0:\n",
    "        return 1\n",
    "    else:\n",
    "        return -1\n",
    "\n",
    "def run_PLA_for_n_times(max_exp_times, X_train, y_train, init_w):\n",
    "    w_PLA_list = []\n",
    "    max_exp_times = 1000\n",
    "    for i in range(max_exp_times):\n",
    "        #use number of iteration as random seed\n",
    "        w_PLA = PLA(X_train, y_train, init_w, i)\n",
    "        w_PLA_list.append(w_PLA)\n",
    "    return w_PLA_list\n",
    "\n",
    "def compute_average_squared_length(w_PLA_list, max_exp_times):\n",
    "    sum_squared_length = 0\n",
    "    for i in range(max_exp_times):\n",
    "        sum_squared_length += np.linalg.norm(w_PLA_list[i]) ** 2\n",
    "    average_squared_length = sum_squared_length / max_exp_times\n",
    "    return average_squared_length"
   ]
  },
  {
   "cell_type": "markdown",
   "metadata": {},
   "source": [
    "# Problem 13\n"
   ]
  },
  {
   "cell_type": "code",
   "execution_count": 12,
   "metadata": {},
   "outputs": [
    {
     "name": "stdout",
     "output_type": "stream",
     "text": [
      "388.0550458239118\n"
     ]
    }
   ],
   "source": [
    "PLA_list_13 = run_PLA_for_n_times(max_exp_times, X_train, y_train, init_w)\n",
    "average_squared_length = compute_average_squared_length(PLA_list_13, max_exp_times)\n",
    "print(average_squared_length)"
   ]
  },
  {
   "cell_type": "markdown",
   "metadata": {},
   "source": [
    "# Problem 14"
   ]
  },
  {
   "cell_type": "code",
   "execution_count": 13,
   "metadata": {},
   "outputs": [
    {
     "name": "stdout",
     "output_type": "stream",
     "text": [
      "1552.2201832956473\n"
     ]
    }
   ],
   "source": [
    "X_train_double = X_train * 2\n",
    "\n",
    "PLA_list_14 = run_PLA_for_n_times(max_exp_times, X_train_double, y_train, init_w)\n",
    "average_squared_length = compute_average_squared_length(PLA_list_14, max_exp_times)\n",
    "print(average_squared_length)"
   ]
  },
  {
   "cell_type": "markdown",
   "metadata": {},
   "source": [
    "# Problem 15"
   ]
  },
  {
   "cell_type": "code",
   "execution_count": 14,
   "metadata": {},
   "outputs": [
    {
     "name": "stdout",
     "output_type": "stream",
     "text": [
      "7.070293411626251\n"
     ]
    }
   ],
   "source": [
    "length = np.linalg.norm(X_train, axis = 1).reshape(-1, 1)\n",
    "X_train_normalized = X_train / length\n",
    "\n",
    "PLA_list_15 = run_PLA_for_n_times(max_exp_times, X_train_normalized, y_train, init_w)\n",
    "average_squared_length = compute_average_squared_length(PLA_list_15, max_exp_times)\n",
    "print(average_squared_length)"
   ]
  },
  {
   "cell_type": "markdown",
   "metadata": {},
   "source": [
    "# Problem 16"
   ]
  },
  {
   "cell_type": "code",
   "execution_count": 15,
   "metadata": {},
   "outputs": [
    {
     "name": "stdout",
     "output_type": "stream",
     "text": [
      "541.4407857585563\n"
     ]
    }
   ],
   "source": [
    "x_0 = np.zeros(num_observation).reshape(-1, 1)\n",
    "X_train_no_bias = np.concatenate((x_0, np.array(X)), axis = 1)\n",
    "\n",
    "PLA_list_16 = run_PLA_for_n_times(max_exp_times, X_train_no_bias, y_train, init_w)\n",
    "average_squared_length = compute_average_squared_length(PLA_list_16, max_exp_times)\n",
    "print(average_squared_length)"
   ]
  }
 ],
 "metadata": {
  "interpreter": {
   "hash": "50bc8ce3d1f752641134e147d4e62e8ba66bb5292f815a5a3dd7adbd21f01ef0"
  },
  "kernelspec": {
   "display_name": "Python 3.6.8 64-bit ('test': conda)",
   "name": "python3"
  },
  "language_info": {
   "codemirror_mode": {
    "name": "ipython",
    "version": 3
   },
   "file_extension": ".py",
   "mimetype": "text/x-python",
   "name": "python",
   "nbconvert_exporter": "python",
   "pygments_lexer": "ipython3",
   "version": "3.6.8"
  },
  "orig_nbformat": 4
 },
 "nbformat": 4,
 "nbformat_minor": 2
}
