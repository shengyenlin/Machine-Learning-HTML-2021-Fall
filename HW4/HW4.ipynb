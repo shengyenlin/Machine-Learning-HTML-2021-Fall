{
 "cells": [
  {
   "cell_type": "code",
   "execution_count": 1,
   "metadata": {},
   "outputs": [],
   "source": [
    "import numpy as np\n",
    "from sklearn.preprocessing import PolynomialFeatures\n",
    "from liblinear.liblinearutil import *"
   ]
  },
  {
   "cell_type": "code",
   "execution_count": 2,
   "metadata": {},
   "outputs": [],
   "source": [
    "datContentTrain = [i.strip().split() for i in open(\"./hw4_train.dat\").readlines()]\n",
    "for i in range(len(datContentTrain)):\n",
    "    for j in range(len(datContentTrain[i])):\n",
    "        datContentTrain[i][j] = float(datContentTrain[i][j])\n",
    "data_train = np.array(datContentTrain)\n",
    "\n",
    "datContentTest = [i.strip().split() for i in open(\"./hw4_test.dat\").readlines()]\n",
    "for i in range(len(datContentTest)):\n",
    "    for j in range(len(datContentTest[i])):\n",
    "        datContentTest[i][j] = float(datContentTest[i][j])\n",
    "data_test = np.array(datContentTest)"
   ]
  },
  {
   "cell_type": "code",
   "execution_count": 3,
   "metadata": {},
   "outputs": [],
   "source": [
    "X_train = data_train[:, :-1]\n",
    "y_train = data_train[:, -1]\n",
    "X_test = data_test[:, :-1]\n",
    "y_test = data_test[:, -1]"
   ]
  },
  {
   "cell_type": "code",
   "execution_count": 4,
   "metadata": {},
   "outputs": [],
   "source": [
    "poly = PolynomialFeatures(3)\n",
    "X_train_transformed_Q3 = poly.fit_transform(X_train)\n",
    "X_test_transformed_Q3 = poly.transform(X_test)"
   ]
  },
  {
   "cell_type": "markdown",
   "metadata": {},
   "source": [
    "# Problem 12"
   ]
  },
  {
   "cell_type": "markdown",
   "metadata": {},
   "source": [
    "## By reading the documentation, we can derive that $\\lambda = \\frac{1}{2C}$"
   ]
  },
  {
   "cell_type": "code",
   "execution_count": 19,
   "metadata": {},
   "outputs": [
    {
     "name": "stdout",
     "output_type": "stream",
     "text": [
      "When log_10 (lambda) = -4\n",
      "Accuracy = 87.375% (699/800) (classification)\n",
      "When log_10 (lambda) = -2\n",
      "Accuracy = 87.75% (702/800) (classification)\n",
      "When log_10 (lambda) = 0\n",
      "Accuracy = 92% (736/800) (classification)\n",
      "When log_10 (lambda) = 2\n",
      "Accuracy = 92.75% (742/800) (classification)\n",
      "When log_10 (lambda) = 4\n",
      "Accuracy = 83.5% (668/800) (classification)\n"
     ]
    }
   ],
   "source": [
    "#algo\n",
    "lambda_list = [-4, -2, 0, 2, 4]\n",
    "for lam in lambda_list:\n",
    "    print(f\"When log_10 (lambda) = {lam}\")\n",
    "    prob = problem(y_train, X_train_transformed_Q3)\n",
    "    c = 1 / (2 * (10 ** lam))\n",
    "    param = parameter(f\"-s 0 -c {c} -e 0.000001 -q\")\n",
    "    m = train(prob, param)\n",
    "    p_labels, p_acc, p_vals = predict(y_test, X_test_transformed_Q3, m)\n",
    "    \n",
    "    (ACC, MSE, SCC) = evaluations(y_test, p_labels)"
   ]
  },
  {
   "cell_type": "markdown",
   "metadata": {},
   "source": [
    "# Problem 13"
   ]
  },
  {
   "cell_type": "code",
   "execution_count": 26,
   "metadata": {},
   "outputs": [
    {
     "name": "stdout",
     "output_type": "stream",
     "text": [
      "When log_10 (lambda) = -4\n",
      "Accuracy = 100% (200/200) (classification)\n",
      "When log_10 (lambda) = -2\n",
      "Accuracy = 100% (200/200) (classification)\n",
      "When log_10 (lambda) = 0\n",
      "Accuracy = 97.5% (195/200) (classification)\n",
      "When log_10 (lambda) = 2\n",
      "Accuracy = 95% (190/200) (classification)\n",
      "When log_10 (lambda) = 4\n",
      "Accuracy = 82% (164/200) (classification)\n"
     ]
    }
   ],
   "source": [
    "#algo\n",
    "lambda_list = [-4, -2, 0, 2, 4]\n",
    "for lam in lambda_list:\n",
    "    print(f\"When log_10 (lambda) = {lam}\")\n",
    "    prob = problem(y_train, X_train_transformed_Q3)\n",
    "    c = 1 / (2 * (10 ** lam))\n",
    "    param = parameter(f\"-s 0 -c {c} -e 0.000001 -q\")\n",
    "    m = train(prob, param)\n",
    "    p_labels, p_acc, p_vals = predict(y_train, X_train_transformed_Q3, m)"
   ]
  },
  {
   "cell_type": "markdown",
   "metadata": {},
   "source": [
    "# Problem 14"
   ]
  },
  {
   "cell_type": "code",
   "execution_count": 7,
   "metadata": {},
   "outputs": [],
   "source": [
    "X_subtrain = X_train_transformed_Q3[:120, :]\n",
    "y_subtrain = y_train[:120]\n",
    "X_val = X_train_transformed_Q3[120:, :]\n",
    "y_val = y_train[120:]"
   ]
  },
  {
   "cell_type": "code",
   "execution_count": 82,
   "metadata": {},
   "outputs": [
    {
     "name": "stdout",
     "output_type": "stream",
     "text": [
      "When log_10 (lambda) = -4\n",
      "Accuracy = 77.5% (62/80) (classification)\n",
      "When log_10 (lambda) = -2\n",
      "Accuracy = 80% (64/80) (classification)\n",
      "When log_10 (lambda) = 0\n",
      "Accuracy = 88.75% (71/80) (classification)\n",
      "When log_10 (lambda) = 2\n",
      "Accuracy = 93.75% (75/80) (classification)\n",
      "When log_10 (lambda) = 4\n",
      "Accuracy = 85% (68/80) (classification)\n",
      "==========\n",
      "The best lambda selected by sub-training set is 2\n",
      "Testing result: E_out is 0.07499999999999996\n"
     ]
    }
   ],
   "source": [
    "lambda_list = [-4, -2, 0, 2, 4]\n",
    "best_lambda = 0\n",
    "best_acc = 0\n",
    "best_model = None\n",
    "for lam in lambda_list:\n",
    "    print(f\"When log_10 (lambda) = {lam}\")\n",
    "    prob = problem(y_subtrain, X_subtrain)\n",
    "    c = 1 / (2 * (10 ** lam))\n",
    "    param = parameter(f\"-s 0 -c {c} -e 0.000001 -q\")\n",
    "    m = train(prob, param)\n",
    "    p_labels, p_acc, p_vals = predict(y_val, X_val, m)\n",
    "    if p_acc[0] > best_acc:\n",
    "        best_lambda = lam\n",
    "        best_acc = p_acc[0]\n",
    "        best_model = m\n",
    "\n",
    "print(\"=\"*10)\n",
    "print(f\"The best lambda selected by sub-training set is {best_lambda}\")\n",
    "p_labels, p_acc, p_vals = predict(y_test, X_test_transformed_Q3, best_model, \"-q\")\n",
    "print(f\"Testing result: E_out is {1 - p_acc[0] / 100}\")"
   ]
  },
  {
   "cell_type": "markdown",
   "metadata": {},
   "source": [
    "# Problem 15"
   ]
  },
  {
   "cell_type": "code",
   "execution_count": 57,
   "metadata": {},
   "outputs": [
    {
     "name": "stdout",
     "output_type": "stream",
     "text": [
      "Accuracy = 92.75% (742/800) (classification)\n",
      "Testing result: E_out is 0.07250000000000001\n"
     ]
    }
   ],
   "source": [
    "#best_lambda = 2 from previous problem\n",
    "prob = problem(y_train, X_train_transformed_Q3)\n",
    "c = 1 / (2 * (10 ** best_lambda))\n",
    "param = parameter(f\"-s 0 -c {c} -e 0.000001 -q\")\n",
    "m = train(prob, param)\n",
    "p_labels, p_acc, p_vals = predict(y_test, X_test_transformed_Q3, m)\n",
    "print(f\"Testing result: E_out is {1 - p_acc[0] / 100}\")"
   ]
  },
  {
   "cell_type": "markdown",
   "metadata": {},
   "source": [
    "# Problem 16"
   ]
  },
  {
   "cell_type": "code",
   "execution_count": 10,
   "metadata": {},
   "outputs": [
    {
     "name": "stdout",
     "output_type": "stream",
     "text": [
      "When lambda = -4, cross validation error is 0.18999999999999995\n",
      "When lambda = -2, cross validation error is 0.17000000000000004\n",
      "When lambda = 0, cross validation error is 0.11499999999999999\n",
      "When lambda = 2, cross validation error is 0.07999999999999996\n",
      "When lambda = 4, cross validation error is 0.20999999999999996\n"
     ]
    }
   ],
   "source": [
    "num_split = 40\n",
    "K = int(X_train.shape[0] / num_split) #K-Fold cv\n",
    "\n",
    "for lam in lambda_list:\n",
    "    ttl_acc = 0\n",
    "    for idx in range(K):\n",
    "        X_val = X_train_transformed_Q3[idx*num_split:(idx+1)*num_split, :]\n",
    "        y_val = y_train[idx*num_split:(idx+1)*num_split]\n",
    "        X_subtrain = np.concatenate(\n",
    "            [X_train_transformed_Q3[:idx*num_split, :], \n",
    "            X_train_transformed_Q3[(idx+1)*num_split:, :]],\n",
    "            axis = 0)\n",
    "        y_subtrain = np.concatenate(\n",
    "            [y_train[:idx*num_split], \n",
    "            y_train[(idx+1)*num_split:]],\n",
    "            axis = 0\n",
    "        )\n",
    "\n",
    "        prob = problem(y_subtrain, X_subtrain)\n",
    "        c = 1 / (2 * (10 ** lam))\n",
    "        param = parameter(f\"-s 0 -c {c} -e 0.000001 -q\")\n",
    "        m = train(prob, param)\n",
    "        p_labels, p_acc, p_vals = predict(y_val, X_val, m, \"-q\")\n",
    "\n",
    "        ttl_acc += p_acc[0]\n",
    "    print(f\"When lambda = {lam}, cross validation error is {1 - ttl_acc/(K*100)}\")"
   ]
  }
 ],
 "metadata": {
  "interpreter": {
   "hash": "50bc8ce3d1f752641134e147d4e62e8ba66bb5292f815a5a3dd7adbd21f01ef0"
  },
  "kernelspec": {
   "display_name": "Python 3.6.8 64-bit ('test': conda)",
   "language": "python",
   "name": "python3"
  },
  "language_info": {
   "codemirror_mode": {
    "name": "ipython",
    "version": 3
   },
   "file_extension": ".py",
   "mimetype": "text/x-python",
   "name": "python",
   "nbconvert_exporter": "python",
   "pygments_lexer": "ipython3",
   "version": "3.6.8"
  },
  "orig_nbformat": 4
 },
 "nbformat": 4,
 "nbformat_minor": 2
}
